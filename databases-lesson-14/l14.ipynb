{
 "cells": [
  {
   "attachments": {},
   "cell_type": "markdown",
   "metadata": {},
   "source": [
    "## Databases"
   ]
  },
  {
   "cell_type": "code",
   "execution_count": 7,
   "metadata": {},
   "outputs": [
    {
     "name": "stdout",
     "output_type": "stream",
     "text": [
      "[('2025-04-14 19:19:12',)]\n",
      "('2025-04-14 19:19:12',)\n"
     ]
    }
   ],
   "source": [
    "import sqlite3\n",
    "#sqlite\n",
    "connection = sqlite3.connect('sqlite_db.sqlite')\n",
    "\n",
    "cursor = connection.cursor()\n",
    "\n",
    "query = \"select datetime('now', 'localtime')\"\n",
    "\n",
    "results = cursor.execute(query)\n",
    "\n",
    "row = results.fetchall()\n",
    "print(row)\n",
    "time = row[0]\n",
    "print(time)\n",
    "\n",
    "cursor.close()\n",
    "connection.commit()\n",
    "connection.close()"
   ]
  },
  {
   "cell_type": "code",
   "execution_count": 8,
   "metadata": {},
   "outputs": [],
   "source": [
    "with sqlite3.connect('test_database.db') as connection:\n",
    "    cursor = connection.cursor()\n",
    "    query = 'create table abc(id int)'\n",
    "    results = cursor.execute(query)\n",
    "    "
   ]
  },
  {
   "cell_type": "code",
   "execution_count": null,
   "metadata": {},
   "outputs": [],
   "source": [
    "#Create a table with 2 rows in an sqlite database"
   ]
  },
  {
   "cell_type": "code",
   "execution_count": 14,
   "metadata": {},
   "outputs": [],
   "source": [
    "with sqlite3.connect('mydatabase.db') as connection:\n",
    "    cursor = connection.cursor()\n",
    "    query1 = \"create table if not exists newtable(name text)\"\n",
    "    query2 = \"insert into newtable values('Jack'), ('John')\"\n",
    "    cursor.execute(query1)\n",
    "    cursor.execute(query2)\n",
    "    connection.commit()"
   ]
  },
  {
   "cell_type": "code",
   "execution_count": 15,
   "metadata": {},
   "outputs": [],
   "source": [
    "query1 = \"create table if not exists newtable(name text)\"\n",
    "query2 = \"insert into newtable values('Jack'), ('John')\"\n",
    "\n",
    "connection = sqlite3.connect('mydatabase.db')\n",
    "cursor = connection.cursor()\n",
    "cursor.execute(query1)\n",
    "cursor.execute(query2)\n",
    "cursor.close()\n",
    "connection.commit()\n",
    "connection.close()"
   ]
  },
  {
   "cell_type": "code",
   "execution_count": 17,
   "metadata": {},
   "outputs": [],
   "source": [
    "anylist = [\n",
    "'drop table if exists newtable;',\n",
    "'create table newtable (firstname text, lastname text, age int);',\n",
    "\"insert into newtable values ('Fran', 'Marquez', 25), ('Bradley', 'Barcola', 27)\"\n",
    "]\n",
    "with sqlite3.connect('mydatabase.db') as connection:\n",
    "    cursor = connection.cursor()\n",
    "    for i in anylist:\n",
    "        cursor.execute(i)"
   ]
  },
  {
   "cell_type": "code",
   "execution_count": 20,
   "metadata": {},
   "outputs": [
    {
     "name": "stdout",
     "output_type": "stream",
     "text": [
      "[('A', 'John', 'Engineer'), ('A', 'Jack', 'Officer'), ('B', 'John', 'Manager'), ('B', 'Jack', 'Manager'), ('D', 'John', 'Chairman'), ('E', 'Jack', 'Department Head')]\n"
     ]
    }
   ],
   "source": [
    "import pyodbc\n",
    "connection = pyodbc.connect('Driver={SQL Server Native Client 11.0};'\n",
    "                            'Server=DESKTOP-EL5LQKN;'\n",
    "                            'Database=W3Resource;'\n",
    "                            'Trusted_Connection=yes;')\n",
    "cursor=connection.cursor()\n",
    "sql = 'select * from Colleagues'\n",
    "result = cursor.execute(sql)\n",
    "print(result.fetchall())\n",
    "cursor.close()\n",
    "connection.commit()\n",
    "connection.close()"
   ]
  },
  {
   "cell_type": "code",
   "execution_count": 23,
   "metadata": {},
   "outputs": [
    {
     "data": {
      "text/html": [
       "<div>\n",
       "<style scoped>\n",
       "    .dataframe tbody tr th:only-of-type {\n",
       "        vertical-align: middle;\n",
       "    }\n",
       "\n",
       "    .dataframe tbody tr th {\n",
       "        vertical-align: top;\n",
       "    }\n",
       "\n",
       "    .dataframe thead th {\n",
       "        text-align: right;\n",
       "    }\n",
       "</style>\n",
       "<table border=\"1\" class=\"dataframe\">\n",
       "  <thead>\n",
       "    <tr style=\"text-align: right;\">\n",
       "      <th></th>\n",
       "      <th>Workplace</th>\n",
       "      <th>Name</th>\n",
       "      <th>Roles</th>\n",
       "    </tr>\n",
       "  </thead>\n",
       "  <tbody>\n",
       "    <tr>\n",
       "      <th>0</th>\n",
       "      <td>A</td>\n",
       "      <td>John</td>\n",
       "      <td>Engineer</td>\n",
       "    </tr>\n",
       "    <tr>\n",
       "      <th>1</th>\n",
       "      <td>A</td>\n",
       "      <td>Jack</td>\n",
       "      <td>Officer</td>\n",
       "    </tr>\n",
       "    <tr>\n",
       "      <th>2</th>\n",
       "      <td>B</td>\n",
       "      <td>John</td>\n",
       "      <td>Manager</td>\n",
       "    </tr>\n",
       "    <tr>\n",
       "      <th>3</th>\n",
       "      <td>B</td>\n",
       "      <td>Jack</td>\n",
       "      <td>Manager</td>\n",
       "    </tr>\n",
       "    <tr>\n",
       "      <th>4</th>\n",
       "      <td>D</td>\n",
       "      <td>John</td>\n",
       "      <td>Chairman</td>\n",
       "    </tr>\n",
       "    <tr>\n",
       "      <th>5</th>\n",
       "      <td>E</td>\n",
       "      <td>Jack</td>\n",
       "      <td>Department Head</td>\n",
       "    </tr>\n",
       "  </tbody>\n",
       "</table>\n",
       "</div>"
      ],
      "text/plain": [
       "  Workplace  Name            Roles\n",
       "0         A  John         Engineer\n",
       "1         A  Jack          Officer\n",
       "2         B  John          Manager\n",
       "3         B  Jack          Manager\n",
       "4         D  John         Chairman\n",
       "5         E  Jack  Department Head"
      ]
     },
     "execution_count": 23,
     "metadata": {},
     "output_type": "execute_result"
    }
   ],
   "source": [
    "import sqlalchemy as sa\n",
    "import pandas as pd\n",
    "\n",
    "connection_string = 'mssql+pyodbc://DESKTOP-EL5LQKN/W3Resource?driver=SQL+Server'\n",
    "engine = sa.create_engine(connection_string)\n",
    "con = engine.connect()\n",
    "\n",
    "df = pd.read_sql(sa.text('select * from Colleagues'), con=con)\n",
    "df"
   ]
  },
  {
   "cell_type": "code",
   "execution_count": 34,
   "metadata": {},
   "outputs": [
    {
     "name": "stderr",
     "output_type": "stream",
     "text": [
      "C:\\Users\\User\\AppData\\Local\\Temp\\ipykernel_16452\\3664038956.py:10: UserWarning: pandas only supports SQLAlchemy connectable (engine/connection) or database string URI or sqlite3 DBAPI2 connection. Other DBAPI2 objects are not tested. Please consider using SQLAlchemy.\n",
      "  df = pd.read_sql(query, connection)\n"
     ]
    }
   ],
   "source": [
    "#From your sql server, take any table, and import it to sqlite database, and to one csv file\n",
    "#hint: you can use pandas for both of these options\n",
    "\n",
    "connection = pyodbc.connect('Driver={SQL Server Native Client 11.0};'\n",
    "                            'Server=DESKTOP-EL5LQKN;'\n",
    "                            'Database=W3Resource;'\n",
    "                            'Trusted_Connection=yes;')\n",
    "\n",
    "query = 'select * from Colleagues'\n",
    "df = pd.read_sql(query, connection)\n",
    "\n",
    "connection_sqlite = sqlite3.connect('mydatabase.db')\n",
    "df.to_csv('colleagues.csv', index=False)\n",
    "df.to_sql('colleagues', connection_sqlite, if_exists='replace', index=False)\n",
    "\n",
    "connection.close()\n",
    "connection_sqlite.close()"
   ]
  },
  {
   "cell_type": "code",
   "execution_count": 42,
   "metadata": {},
   "outputs": [],
   "source": [
    "#Go to any of your favourite restaurant's or fast-food chain's website\n",
    "#Take 5 products with their price, display them in the menu\n",
    "#As the user orders some products, write the order details to the Orders table in sql\n",
    "#And note that the user can order multiple products in one go\n",
    "#2 points\n",
    "\n",
    "Turka_Saray = [('Russian pancakes',45000), ('Breakfast for 1 person',115000), ('Shakshuka',65000), ('Menemen',45000), ('Scrambled eggs',45000)]\n",
    "\n",
    "conn = sqlite3.connect('mydatabase.db')\n",
    "c = conn.cursor()\n",
    "c.execute('''\n",
    "CREATE TABLE IF NOT EXISTS menu(id integer primary key, name text, price int)\n",
    "''')\n",
    "c.execute('''\n",
    "CREATE TABLE IF NOT EXISTS Orders(id integer primary key, item_id integer, quantity int, foreign key(item_id) references menu(id))\n",
    "''')\n",
    "\n",
    "def create_menu():\n",
    "    c.executemany('Insert into menu(name, price) values (?, ?)', Turka_Saray)\n",
    "    conn.commit()\n",
    "\n",
    "def display_menu():\n",
    "    print('Menu:')\n",
    "    c.execute('select * from menu')\n",
    "    items = c.fetchall()\n",
    "    for i in items:\n",
    "        print(f'{i[0]}. {i[1]} - {i[2]} UZS')\n",
    "def take_order():\n",
    "    display_menu()\n",
    "    item_id = int(input('Enter the item number you want to order: '))\n",
    "    quantity = int(input('What is the quantity?'))\n",
    "\n",
    "    c.execute('Insert into Orders(item_id, quantity) values (?, ?)', (item_id, quantity))\n",
    "    conn.commit()\n",
    "    print('Your order has been received')\n",
    "def program():\n",
    "    create_menu()\n",
    "    while True:\n",
    "        take_order()\n",
    "        another_order = input('Would you like to order something else? (yes or no)').lower()\n",
    "        if another_order != 'yes':\n",
    "            break\n",
    "    conn.close()\n",
    "\n",
    "\n"
   ]
  },
  {
   "cell_type": "code",
   "execution_count": 43,
   "metadata": {},
   "outputs": [
    {
     "name": "stdout",
     "output_type": "stream",
     "text": [
      "Menu:\n",
      "1. Russian pancakes - 45000 UZS\n",
      "2. Breakfast for 1 person - 115000 UZS\n",
      "3. Shakshuka - 65000 UZS\n",
      "4. Menemen - 45000 UZS\n",
      "5. Scrambled eggs - 45000 UZS\n",
      "6. Russian pancakes - 45000 UZS\n",
      "7. Breakfast for 1 person - 115000 UZS\n",
      "8. Shakshuka - 65000 UZS\n",
      "9. Menemen - 45000 UZS\n",
      "10. Scrambled eggs - 45000 UZS\n"
     ]
    },
    {
     "name": "stdout",
     "output_type": "stream",
     "text": [
      "Your order has been received\n",
      "Menu:\n",
      "1. Russian pancakes - 45000 UZS\n",
      "2. Breakfast for 1 person - 115000 UZS\n",
      "3. Shakshuka - 65000 UZS\n",
      "4. Menemen - 45000 UZS\n",
      "5. Scrambled eggs - 45000 UZS\n",
      "6. Russian pancakes - 45000 UZS\n",
      "7. Breakfast for 1 person - 115000 UZS\n",
      "8. Shakshuka - 65000 UZS\n",
      "9. Menemen - 45000 UZS\n",
      "10. Scrambled eggs - 45000 UZS\n",
      "Your order has been received\n"
     ]
    }
   ],
   "source": [
    "program()"
   ]
  }
 ],
 "metadata": {
  "kernelspec": {
   "display_name": "Python 3",
   "language": "python",
   "name": "python3"
  },
  "language_info": {
   "codemirror_mode": {
    "name": "ipython",
    "version": 3
   },
   "file_extension": ".py",
   "mimetype": "text/x-python",
   "name": "python",
   "nbconvert_exporter": "python",
   "pygments_lexer": "ipython3",
   "version": "3.10.6"
  },
  "orig_nbformat": 4
 },
 "nbformat": 4,
 "nbformat_minor": 2
}
