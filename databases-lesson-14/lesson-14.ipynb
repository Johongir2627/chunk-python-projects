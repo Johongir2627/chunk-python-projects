{
 "cells": [
  {
   "cell_type": "markdown",
   "id": "6907edc1",
   "metadata": {},
   "source": [
    "## Databases"
   ]
  },
  {
   "cell_type": "code",
   "execution_count": 1,
   "id": "9d023d4f",
   "metadata": {},
   "outputs": [],
   "source": [
    "import sqlite3"
   ]
  },
  {
   "cell_type": "code",
   "execution_count": 2,
   "id": "1cec498b",
   "metadata": {},
   "outputs": [],
   "source": [
    "connection = sqlite3.connect('example.sqlite')\n",
    "\n",
    "cursor = connection.cursor()"
   ]
  },
  {
   "cell_type": "code",
   "execution_count": 3,
   "id": "146e361b",
   "metadata": {},
   "outputs": [
    {
     "name": "stdout",
     "output_type": "stream",
     "text": [
      "[('2025-05-02 21:15:34',)]\n"
     ]
    }
   ],
   "source": [
    "query = \"select datetime('now', 'localtime')\"\n",
    "\n",
    "result = cursor.execute(query)\n",
    "\n",
    "result = result.fetchall()\n",
    "\n",
    "print(result)"
   ]
  },
  {
   "cell_type": "code",
   "execution_count": 4,
   "id": "aa0e17f7",
   "metadata": {},
   "outputs": [
    {
     "name": "stdout",
     "output_type": "stream",
     "text": [
      "('2025-05-02 21:15:34',)\n"
     ]
    }
   ],
   "source": [
    "time = result[0]\n",
    "print(time)"
   ]
  },
  {
   "cell_type": "code",
   "execution_count": 5,
   "id": "594faa77",
   "metadata": {},
   "outputs": [],
   "source": [
    "cursor.close()\n",
    "connection.commit()\n",
    "connection.close()"
   ]
  },
  {
   "cell_type": "code",
   "execution_count": 6,
   "id": "6b67fe25",
   "metadata": {},
   "outputs": [
    {
     "name": "stdout",
     "output_type": "stream",
     "text": [
      "[('2025-05-02 21:20:22',)]\n",
      "('2025-05-02 21:20:22',)\n"
     ]
    }
   ],
   "source": [
    "import sqlite3\n",
    "\n",
    "connection = sqlite3.connect('example.sqlite')\n",
    "cursor = connection.cursor()\n",
    "\n",
    "query = \"select datetime('now', 'localtime')\"\n",
    "result = cursor.execute(query)\n",
    "result = result.fetchall()\n",
    "print(result)\n",
    "\n",
    "time = result[0]\n",
    "print(time)\n",
    "\n",
    "cursor.close()\n",
    "connection.commit()\n",
    "connection.close()"
   ]
  },
  {
   "cell_type": "code",
   "execution_count": 9,
   "id": "3b240ba8",
   "metadata": {},
   "outputs": [],
   "source": [
    "with sqlite3.connect('example.sqlite') as connection:\n",
    "    cursor = connection.cursor()\n",
    "    query = \"create table if not exists test (id integer primary key, name text)\"\n",
    "    result = cursor.execute(query)\n"
   ]
  },
  {
   "cell_type": "code",
   "execution_count": 11,
   "id": "f05da63f",
   "metadata": {},
   "outputs": [],
   "source": [
    "with sqlite3.connect('example.sqlite') as connection:\n",
    "    cursor = connection.cursor()\n",
    "    query = \"create table if not exists student (id integer primary key, name text);\"\n",
    "    result = cursor.execute(query)"
   ]
  },
  {
   "cell_type": "code",
   "execution_count": 13,
   "id": "2d0a94a4",
   "metadata": {},
   "outputs": [],
   "source": [
    "with sqlite3.connect('example.sqlite') as connection:\n",
    "    cursor = connection.cursor()\n",
    "    query = \"insert into student (id, name) values (1, 'John Doe'), (2, 'Jane Doe'), (3, 'Harry Kane');\"\n",
    "    result = connection.execute(query)"
   ]
  },
  {
   "cell_type": "code",
   "execution_count": 14,
   "id": "752bb5c0",
   "metadata": {},
   "outputs": [
    {
     "name": "stdout",
     "output_type": "stream",
     "text": [
      "[(1, 'John Doe'), (2, 'Jane Doe'), (3, 'Harry Kane')]\n"
     ]
    }
   ],
   "source": [
    "anylist = [\n",
    "    \"drop table if exists student1;\",\n",
    "    \"create table student1 (id integer primary key, name text);\",\n",
    "    \"insert into student1 (id, name) values (1, 'John Doe'), (2, 'Jane Doe'), (3, 'Harry Kane');\",\n",
    "    \"select * from student1;\"\n",
    "]\n",
    "\n",
    "with sqlite3.connect('example.sqlite') as connection:\n",
    "    cursor = connection.cursor()\n",
    "    for query in anylist:\n",
    "        result = cursor.execute(query)\n",
    "        if query.startswith(\"select\"):\n",
    "            print(result.fetchall())\n",
    "        else:\n",
    "            connection.commit()"
   ]
  },
  {
   "cell_type": "markdown",
   "id": "a840b7e9",
   "metadata": {},
   "source": [
    "## Working with existing database in sql server"
   ]
  },
  {
   "cell_type": "code",
   "execution_count": 20,
   "id": "ae31b88e",
   "metadata": {},
   "outputs": [
    {
     "name": "stdout",
     "output_type": "stream",
     "text": [
      "[('1/1/2022,2022,January,1,Q1,1,1/1/2022,5,Saturday,1',), ('1/2/2022,2022,January,1,Q1,1,1/8/2022,6,Sunday,0',), ('1/3/2022,2022,January,1,Q1,2,1/8/2022,0,Monday,1',), ('1/4/2022,2022,January,1,Q1,2,1/8/2022,1,Tuesday,0',), ('1/5/2022,2022,January,1,Q1,2,1/8/2022,2,Wednesday,0',), ('1/6/2022,2022,January,1,Q1,2,1/8/2022,3,Thursday,0',), ('1/7/2022,2022,January,1,Q1,2,1/8/2022,4,Friday,0',), ('1/8/2022,2022,January,1,Q1,2,1/8/2022,5,Saturday,0',), ('1/9/2022,2022,January,1,Q1,2,1/15/2022,6,Sunday,0',), ('1/10/2022,2022,January,1,Q1,3,1/15/2022,0,Monday,0',), ('1/11/2022,2022,January,1,Q1,3,1/15/2022,1,Tuesday,0',), ('1/12/2022,2022,January,1,Q1,3,1/15/2022,2,Wednesday,0',), ('1/13/2022,2022,January,1,Q1,3,1/15/2022,3,Thursday,0',), ('1/14/2022,2022,January,1,Q1,3,1/15/2022,4,Friday,0',), ('1/15/2022,2022,January,1,Q1,3,1/15/2022,5,Saturday,0',), ('1/16/2022,2022,January,1,Q1,3,1/22/2022,6,Sunday,0',), ('1/17/2022,2022,January,1,Q1,4,1/22/2022,0,Monday,0',), ('1/18/2022,2022,January,1,Q1,4,1/22/2022,1,Tuesday,0',), ('1/19/2022,2022,January,1,Q1,4,1/22/2022,2,Wednesday,0',), ('1/20/2022,2022,January,1,Q1,4,1/22/2022,3,Thursday,0',), ('1/21/2022,2022,January,1,Q1,4,1/22/2022,4,Friday,0',), ('1/22/2022,2022,January,1,Q1,4,1/22/2022,5,Saturday,0',), ('1/23/2022,2022,January,1,Q1,4,1/29/2022,6,Sunday,0',), ('1/24/2022,2022,January,1,Q1,5,1/29/2022,0,Monday,0',), ('1/25/2022,2022,January,1,Q1,5,1/29/2022,1,Tuesday,0',), ('1/26/2022,2022,January,1,Q1,5,1/29/2022,2,Wednesday,0',), ('1/27/2022,2022,January,1,Q1,5,1/29/2022,3,Thursday,0',), ('1/28/2022,2022,January,1,Q1,5,1/29/2022,4,Friday,0',), ('1/29/2022,2022,January,1,Q1,5,1/29/2022,5,Saturday,0',), ('1/30/2022,2022,January,1,Q1,5,2/5/2022,6,Sunday,0',), ('1/31/2022,2022,January,1,Q1,6,2/5/2022,0,Monday,0',), ('2/1/2022,2022,February,2,Q1,6,2/5/2022,1,Tuesday,0',), ('2/2/2022,2022,February,2,Q1,6,2/5/2022,2,Wednesday,0',), ('2/3/2022,2022,February,2,Q1,6,2/5/2022,3,Thursday,0',), ('2/4/2022,2022,February,2,Q1,6,2/5/2022,4,Friday,0',), ('2/5/2022,2022,February,2,Q1,6,2/5/2022,5,Saturday,0',), ('2/6/2022,2022,February,2,Q1,6,2/12/2022,6,Sunday,0',), ('2/7/2022,2022,February,2,Q1,7,2/12/2022,0,Monday,0',), ('2/8/2022,2022,February,2,Q1,7,2/12/2022,1,Tuesday,0',), ('2/9/2022,2022,February,2,Q1,7,2/12/2022,2,Wednesday,0',), ('2/10/2022,2022,February,2,Q1,7,2/12/2022,3,Thursday,0',), ('2/11/2022,2022,February,2,Q1,7,2/12/2022,4,Friday,0',), ('2/12/2022,2022,February,2,Q1,7,2/12/2022,5,Saturday,0',), ('2/13/2022,2022,February,2,Q1,7,2/19/2022,6,Sunday,0',), ('2/14/2022,2022,February,2,Q1,8,2/19/2022,0,Monday,0',), ('2/15/2022,2022,February,2,Q1,8,2/19/2022,1,Tuesday,0',), ('2/16/2022,2022,February,2,Q1,8,2/19/2022,2,Wednesday,0',), ('2/17/2022,2022,February,2,Q1,8,2/19/2022,3,Thursday,0',), ('2/18/2022,2022,February,2,Q1,8,2/19/2022,4,Friday,0',), ('2/19/2022,2022,February,2,Q1,8,2/19/2022,5,Saturday,0',), ('2/20/2022,2022,February,2,Q1,8,2/26/2022,6,Sunday,0',), ('2/21/2022,2022,February,2,Q1,9,2/26/2022,0,Monday,0',), ('2/22/2022,2022,February,2,Q1,9,2/26/2022,1,Tuesday,0',), ('2/23/2022,2022,February,2,Q1,9,2/26/2022,2,Wednesday,0',), ('2/24/2022,2022,February,2,Q1,9,2/26/2022,3,Thursday,0',), ('2/25/2022,2022,February,2,Q1,9,2/26/2022,4,Friday,0',), ('2/26/2022,2022,February,2,Q1,9,2/26/2022,5,Saturday,0',), ('2/27/2022,2022,February,2,Q1,9,3/5/2022,6,Sunday,0',), ('2/28/2022,2022,February,2,Q1,10,3/5/2022,0,Monday,0',), ('3/1/2022,2022,March,3,Q1,10,3/5/2022,1,Tuesday,0',), ('3/2/2022,2022,March,3,Q1,10,3/5/2022,2,Wednesday,0',), ('3/3/2022,2022,March,3,Q1,10,3/5/2022,3,Thursday,0',), ('3/4/2022,2022,March,3,Q1,10,3/5/2022,4,Friday,0',), ('3/5/2022,2022,March,3,Q1,10,3/5/2022,5,Saturday,0',), ('3/6/2022,2022,March,3,Q1,10,3/12/2022,6,Sunday,0',), ('3/7/2022,2022,March,3,Q1,11,3/12/2022,0,Monday,0',), ('3/8/2022,2022,March,3,Q1,11,3/12/2022,1,Tuesday,0',), ('3/9/2022,2022,March,3,Q1,11,3/12/2022,2,Wednesday,0',), ('3/10/2022,2022,March,3,Q1,11,3/12/2022,3,Thursday,0',), ('3/11/2022,2022,March,3,Q1,11,3/12/2022,4,Friday,0',), ('3/12/2022,2022,March,3,Q1,11,3/12/2022,5,Saturday,0',), ('3/13/2022,2022,March,3,Q1,11,3/19/2022,6,Sunday,0',), ('3/14/2022,2022,March,3,Q1,12,3/19/2022,0,Monday,0',), ('3/15/2022,2022,March,3,Q1,12,3/19/2022,1,Tuesday,0',), ('3/16/2022,2022,March,3,Q1,12,3/19/2022,2,Wednesday,0',), ('3/17/2022,2022,March,3,Q1,12,3/19/2022,3,Thursday,0',), ('3/18/2022,2022,March,3,Q1,12,3/19/2022,4,Friday,0',), ('3/19/2022,2022,March,3,Q1,12,3/19/2022,5,Saturday,0',), ('3/20/2022,2022,March,3,Q1,12,3/26/2022,6,Sunday,0',), ('3/21/2022,2022,March,3,Q1,13,3/26/2022,0,Monday,0',), ('3/22/2022,2022,March,3,Q1,13,3/26/2022,1,Tuesday,0',), ('3/23/2022,2022,March,3,Q1,13,3/26/2022,2,Wednesday,0',), ('3/24/2022,2022,March,3,Q1,13,3/26/2022,3,Thursday,0',), ('3/25/2022,2022,March,3,Q1,13,3/26/2022,4,Friday,0',), ('3/26/2022,2022,March,3,Q1,13,3/26/2022,5,Saturday,0',), ('3/27/2022,2022,March,3,Q1,13,4/2/2022,6,Sunday,0',), ('3/28/2022,2022,March,3,Q1,14,4/2/2022,0,Monday,0',), ('3/29/2022,2022,March,3,Q1,14,4/2/2022,1,Tuesday,0',), ('3/30/2022,2022,March,3,Q1,14,4/2/2022,2,Wednesday,0',), ('3/31/2022,2022,March,3,Q1,14,4/2/2022,3,Thursday,0',), ('4/1/2022,2022,April,4,Q2,14,4/2/2022,4,Friday,0',), ('4/2/2022,2022,April,4,Q2,14,4/2/2022,5,Saturday,0',), ('4/3/2022,2022,April,4,Q2,14,4/9/2022,6,Sunday,0',), ('4/4/2022,2022,April,4,Q2,15,4/9/2022,0,Monday,0',), ('4/5/2022,2022,April,4,Q2,15,4/9/2022,1,Tuesday,0',), ('4/6/2022,2022,April,4,Q2,15,4/9/2022,2,Wednesday,0',), ('4/7/2022,2022,April,4,Q2,15,4/9/2022,3,Thursday,0',), ('4/8/2022,2022,April,4,Q2,15,4/9/2022,4,Friday,0',), ('4/9/2022,2022,April,4,Q2,15,4/9/2022,5,Saturday,0',), ('4/10/2022,2022,April,4,Q2,15,4/16/2022,6,Sunday,0',), ('4/11/2022,2022,April,4,Q2,16,4/16/2022,0,Monday,0',), ('4/12/2022,2022,April,4,Q2,16,4/16/2022,1,Tuesday,0',), ('4/13/2022,2022,April,4,Q2,16,4/16/2022,2,Wednesday,0',), ('4/14/2022,2022,April,4,Q2,16,4/16/2022,3,Thursday,0',), ('4/15/2022,2022,April,4,Q2,16,4/16/2022,4,Friday,0',), ('4/16/2022,2022,April,4,Q2,16,4/16/2022,5,Saturday,0',), ('4/17/2022,2022,April,4,Q2,16,4/23/2022,6,Sunday,0',), ('4/18/2022,2022,April,4,Q2,17,4/23/2022,0,Monday,0',), ('4/19/2022,2022,April,4,Q2,17,4/23/2022,1,Tuesday,0',), ('4/20/2022,2022,April,4,Q2,17,4/23/2022,2,Wednesday,0',), ('4/21/2022,2022,April,4,Q2,17,4/23/2022,3,Thursday,0',), ('4/22/2022,2022,April,4,Q2,17,4/23/2022,4,Friday,0',), ('4/23/2022,2022,April,4,Q2,17,4/23/2022,5,Saturday,0',), ('4/24/2022,2022,April,4,Q2,17,4/30/2022,6,Sunday,0',), ('4/25/2022,2022,April,4,Q2,18,4/30/2022,0,Monday,0',), ('4/26/2022,2022,April,4,Q2,18,4/30/2022,1,Tuesday,0',), ('4/27/2022,2022,April,4,Q2,18,4/30/2022,2,Wednesday,0',), ('4/28/2022,2022,April,4,Q2,18,4/30/2022,3,Thursday,0',), ('4/29/2022,2022,April,4,Q2,18,4/30/2022,4,Friday,0',), ('4/30/2022,2022,April,4,Q2,18,4/30/2022,5,Saturday,0',), ('5/1/2022,2022,May,5,Q2,18,5/7/2022,6,Sunday,0',), ('5/2/2022,2022,May,5,Q2,19,5/7/2022,0,Monday,0',), ('5/3/2022,2022,May,5,Q2,19,5/7/2022,1,Tuesday,0',), ('5/4/2022,2022,May,5,Q2,19,5/7/2022,2,Wednesday,1',), ('5/5/2022,2022,May,5,Q2,19,5/7/2022,3,Thursday,0',), ('5/6/2022,2022,May,5,Q2,19,5/7/2022,4,Friday,0',), ('5/7/2022,2022,May,5,Q2,19,5/7/2022,5,Saturday,0',), ('5/8/2022,2022,May,5,Q2,19,5/14/2022,6,Sunday,0',), ('5/9/2022,2022,May,5,Q2,20,5/14/2022,0,Monday,0',), ('5/10/2022,2022,May,5,Q2,20,5/14/2022,1,Tuesday,0',), ('5/11/2022,2022,May,5,Q2,20,5/14/2022,2,Wednesday,0',), ('5/12/2022,2022,May,5,Q2,20,5/14/2022,3,Thursday,0',), ('5/13/2022,2022,May,5,Q2,20,5/14/2022,4,Friday,0',), ('5/14/2022,2022,May,5,Q2,20,5/14/2022,5,Saturday,0',), ('5/15/2022,2022,May,5,Q2,20,5/21/2022,6,Sunday,0',), ('5/16/2022,2022,May,5,Q2,21,5/21/2022,0,Monday,0',), ('5/17/2022,2022,May,5,Q2,21,5/21/2022,1,Tuesday,0',), ('5/18/2022,2022,May,5,Q2,21,5/21/2022,2,Wednesday,0',), ('5/19/2022,2022,May,5,Q2,21,5/21/2022,3,Thursday,0',), ('5/20/2022,2022,May,5,Q2,21,5/21/2022,4,Friday,0',), ('5/21/2022,2022,May,5,Q2,21,5/21/2022,5,Saturday,0',), ('5/22/2022,2022,May,5,Q2,21,5/28/2022,6,Sunday,0',), ('5/23/2022,2022,May,5,Q2,22,5/28/2022,0,Monday,0',), ('5/24/2022,2022,May,5,Q2,22,5/28/2022,1,Tuesday,0',), ('5/25/2022,2022,May,5,Q2,22,5/28/2022,2,Wednesday,0',), ('5/26/2022,2022,May,5,Q2,22,5/28/2022,3,Thursday,0',), ('5/27/2022,2022,May,5,Q2,22,5/28/2022,4,Friday,0',), ('5/28/2022,2022,May,5,Q2,22,5/28/2022,5,Saturday,0',), ('5/29/2022,2022,May,5,Q2,22,6/4/2022,6,Sunday,0',), ('5/30/2022,2022,May,5,Q2,23,6/4/2022,0,Monday,1',), ('5/31/2022,2022,May,5,Q2,23,6/4/2022,1,Tuesday,0',), ('6/1/2022,2022,June,6,Q2,23,6/4/2022,2,Wednesday,0',), ('6/2/2022,2022,June,6,Q2,23,6/4/2022,3,Thursday,0',), ('6/3/2022,2022,June,6,Q2,23,6/4/2022,4,Friday,0',), ('6/4/2022,2022,June,6,Q2,23,6/4/2022,5,Saturday,0',), ('6/5/2022,2022,June,6,Q2,23,6/11/2022,6,Sunday,0',), ('6/6/2022,2022,June,6,Q2,24,6/11/2022,0,Monday,0',), ('6/7/2022,2022,June,6,Q2,24,6/11/2022,1,Tuesday,0',), ('6/8/2022,2022,June,6,Q2,24,6/11/2022,2,Wednesday,0',), ('6/9/2022,2022,June,6,Q2,24,6/11/2022,3,Thursday,0',), ('6/10/2022,2022,June,6,Q2,24,6/11/2022,4,Friday,0',), ('6/11/2022,2022,June,6,Q2,24,6/11/2022,5,Saturday,0',), ('6/12/2022,2022,June,6,Q2,24,6/18/2022,6,Sunday,0',), ('6/13/2022,2022,June,6,Q2,25,6/18/2022,0,Monday,0',), ('6/14/2022,2022,June,6,Q2,25,6/18/2022,1,Tuesday,0',), ('6/15/2022,2022,June,6,Q2,25,6/18/2022,2,Wednesday,0',), ('6/16/2022,2022,June,6,Q2,25,6/18/2022,3,Thursday,0',), ('6/17/2022,2022,June,6,Q2,25,6/18/2022,4,Friday,0',), ('6/18/2022,2022,June,6,Q2,25,6/18/2022,5,Saturday,0',), ('6/19/2022,2022,June,6,Q2,25,6/25/2022,6,Sunday,0',), ('6/20/2022,2022,June,6,Q2,26,6/25/2022,0,Monday,0',), ('6/21/2022,2022,June,6,Q2,26,6/25/2022,1,Tuesday,0',), ('6/22/2022,2022,June,6,Q2,26,6/25/2022,2,Wednesday,0',), ('6/23/2022,2022,June,6,Q2,26,6/25/2022,3,Thursday,0',), ('6/24/2022,2022,June,6,Q2,26,6/25/2022,4,Friday,0',), ('6/25/2022,2022,June,6,Q2,26,6/25/2022,5,Saturday,0',), ('6/26/2022,2022,June,6,Q2,26,7/2/2022,6,Sunday,0',), ('6/27/2022,2022,June,6,Q2,27,7/2/2022,0,Monday,0',), ('6/28/2022,2022,June,6,Q2,27,7/2/2022,1,Tuesday,0',), ('6/29/2022,2022,June,6,Q2,27,7/2/2022,2,Wednesday,0',), ('6/30/2022,2022,June,6,Q2,27,7/2/2022,3,Thursday,0',), ('7/1/2022,2022,July,7,Q3,27,7/2/2022,4,Friday,0',), ('7/2/2022,2022,July,7,Q3,27,7/2/2022,5,Saturday,0',), ('7/3/2022,2022,July,7,Q3,27,7/9/2022,6,Sunday,0',), ('7/4/2022,2022,July,7,Q3,28,7/9/2022,0,Monday,0',), ('7/5/2022,2022,July,7,Q3,28,7/9/2022,1,Tuesday,0',), ('7/6/2022,2022,July,7,Q3,28,7/9/2022,2,Wednesday,0',), ('7/7/2022,2022,July,7,Q3,28,7/9/2022,3,Thursday,0',), ('7/8/2022,2022,July,7,Q3,28,7/9/2022,4,Friday,0',), ('7/9/2022,2022,July,7,Q3,28,7/9/2022,5,Saturday,0',), ('7/10/2022,2022,July,7,Q3,28,7/16/2022,6,Sunday,1',), ('7/11/2022,2022,July,7,Q3,29,7/16/2022,0,Monday,0',), ('7/12/2022,2022,July,7,Q3,29,7/16/2022,1,Tuesday,0',), ('7/13/2022,2022,July,7,Q3,29,7/16/2022,2,Wednesday,0',), ('7/14/2022,2022,July,7,Q3,29,7/16/2022,3,Thursday,0',), ('7/15/2022,2022,July,7,Q3,29,7/16/2022,4,Friday,0',), ('7/16/2022,2022,July,7,Q3,29,7/16/2022,5,Saturday,0',), ('7/17/2022,2022,July,7,Q3,29,7/23/2022,6,Sunday,0',), ('7/18/2022,2022,July,7,Q3,30,7/23/2022,0,Monday,0',), ('7/19/2022,2022,July,7,Q3,30,7/23/2022,1,Tuesday,0',), ('7/20/2022,2022,July,7,Q3,30,7/23/2022,2,Wednesday,0',), ('7/21/2022,2022,July,7,Q3,30,7/23/2022,3,Thursday,0',), ('7/22/2022,2022,July,7,Q3,30,7/23/2022,4,Friday,0',), ('7/23/2022,2022,July,7,Q3,30,7/23/2022,5,Saturday,0',), ('7/24/2022,2022,July,7,Q3,30,7/30/2022,6,Sunday,0',), ('7/25/2022,2022,July,7,Q3,31,7/30/2022,0,Monday,0',), ('7/26/2022,2022,July,7,Q3,31,7/30/2022,1,Tuesday,0',), ('7/27/2022,2022,July,7,Q3,31,7/30/2022,2,Wednesday,0',), ('7/28/2022,2022,July,7,Q3,31,7/30/2022,3,Thursday,0',), ('7/29/2022,2022,July,7,Q3,31,7/30/2022,4,Friday,0',), ('7/30/2022,2022,July,7,Q3,31,7/30/2022,5,Saturday,0',), ('7/31/2022,2022,July,7,Q3,31,8/6/2022,6,Sunday,0',), ('8/1/2022,2022,August,8,Q3,32,8/6/2022,0,Monday,0',), ('8/2/2022,2022,August,8,Q3,32,8/6/2022,1,Tuesday,0',), ('8/3/2022,2022,August,8,Q3,32,8/6/2022,2,Wednesday,0',), ('8/4/2022,2022,August,8,Q3,32,8/6/2022,3,Thursday,0',), ('8/5/2022,2022,August,8,Q3,32,8/6/2022,4,Friday,0',), ('8/6/2022,2022,August,8,Q3,32,8/6/2022,5,Saturday,0',), ('8/7/2022,2022,August,8,Q3,32,8/13/2022,6,Sunday,0',), ('8/8/2022,2022,August,8,Q3,33,8/13/2022,0,Monday,0',), ('8/9/2022,2022,August,8,Q3,33,8/13/2022,1,Tuesday,0',), ('8/10/2022,2022,August,8,Q3,33,8/13/2022,2,Wednesday,0',), ('8/11/2022,2022,August,8,Q3,33,8/13/2022,3,Thursday,0',), ('8/12/2022,2022,August,8,Q3,33,8/13/2022,4,Friday,0',), ('8/13/2022,2022,August,8,Q3,33,8/13/2022,5,Saturday,0',), ('8/14/2022,2022,August,8,Q3,33,8/20/2022,6,Sunday,0',), ('8/15/2022,2022,August,8,Q3,34,8/20/2022,0,Monday,0',), ('8/16/2022,2022,August,8,Q3,34,8/20/2022,1,Tuesday,0',), ('8/17/2022,2022,August,8,Q3,34,8/20/2022,2,Wednesday,0',), ('8/18/2022,2022,August,8,Q3,34,8/20/2022,3,Thursday,0',), ('8/19/2022,2022,August,8,Q3,34,8/20/2022,4,Friday,0',), ('8/20/2022,2022,August,8,Q3,34,8/20/2022,5,Saturday,0',), ('8/21/2022,2022,August,8,Q3,34,8/27/2022,6,Sunday,0',), ('8/22/2022,2022,August,8,Q3,35,8/27/2022,0,Monday,0',), ('8/23/2022,2022,August,8,Q3,35,8/27/2022,1,Tuesday,0',), ('8/24/2022,2022,August,8,Q3,35,8/27/2022,2,Wednesday,0',), ('8/25/2022,2022,August,8,Q3,35,8/27/2022,3,Thursday,0',), ('8/26/2022,2022,August,8,Q3,35,8/27/2022,4,Friday,0',), ('8/27/2022,2022,August,8,Q3,35,8/27/2022,5,Saturday,0',), ('8/28/2022,2022,August,8,Q3,35,9/3/2022,6,Sunday,0',), ('8/29/2022,2022,August,8,Q3,36,9/3/2022,0,Monday,0',), ('8/30/2022,2022,August,8,Q3,36,9/3/2022,1,Tuesday,0',), ('8/31/2022,2022,August,8,Q3,36,9/3/2022,2,Wednesday,0',), ('9/1/2022,2022,September,9,Q3,36,9/3/2022,3,Thursday,0',), ('9/2/2022,2022,September,9,Q3,36,9/3/2022,4,Friday,0',), ('9/3/2022,2022,September,9,Q3,36,9/3/2022,5,Saturday,0',), ('9/4/2022,2022,September,9,Q3,36,9/10/2022,6,Sunday,0',), ('9/5/2022,2022,September,9,Q3,37,9/10/2022,0,Monday,0',), ('9/6/2022,2022,September,9,Q3,37,9/10/2022,1,Tuesday,0',), ('9/7/2022,2022,September,9,Q3,37,9/10/2022,2,Wednesday,0',), ('9/8/2022,2022,September,9,Q3,37,9/10/2022,3,Thursday,0',), ('9/9/2022,2022,September,9,Q3,37,9/10/2022,4,Friday,0',), ('9/10/2022,2022,September,9,Q3,37,9/10/2022,5,Saturday,0',), ('9/11/2022,2022,September,9,Q3,37,9/17/2022,6,Sunday,0',), ('9/12/2022,2022,September,9,Q3,38,9/17/2022,0,Monday,0',), ('9/13/2022,2022,September,9,Q3,38,9/17/2022,1,Tuesday,0',), ('9/14/2022,2022,September,9,Q3,38,9/17/2022,2,Wednesday,0',), ('9/15/2022,2022,September,9,Q3,38,9/17/2022,3,Thursday,0',), ('9/16/2022,2022,September,9,Q3,38,9/17/2022,4,Friday,0',), ('9/17/2022,2022,September,9,Q3,38,9/17/2022,5,Saturday,0',), ('9/18/2022,2022,September,9,Q3,38,9/24/2022,6,Sunday,0',), ('9/19/2022,2022,September,9,Q3,39,9/24/2022,0,Monday,0',), ('9/20/2022,2022,September,9,Q3,39,9/24/2022,1,Tuesday,0',), ('9/21/2022,2022,September,9,Q3,39,9/24/2022,2,Wednesday,0',), ('9/22/2022,2022,September,9,Q3,39,9/24/2022,3,Thursday,0',), ('9/23/2022,2022,September,9,Q3,39,9/24/2022,4,Friday,0',), ('9/24/2022,2022,September,9,Q3,39,9/24/2022,5,Saturday,0',), ('9/25/2022,2022,September,9,Q3,39,10/1/2022,6,Sunday,0',), ('9/26/2022,2022,September,9,Q3,40,10/1/2022,0,Monday,0',), ('9/27/2022,2022,September,9,Q3,40,10/1/2022,1,Tuesday,0',), ('9/28/2022,2022,September,9,Q3,40,10/1/2022,2,Wednesday,0',), ('9/29/2022,2022,September,9,Q3,40,10/1/2022,3,Thursday,0',), ('9/30/2022,2022,September,9,Q3,40,10/1/2022,4,Friday,0',), ('10/1/2022,2022,October,10,Q4,40,10/1/2022,5,Saturday,0',), ('10/2/2022,2022,October,10,Q4,40,10/8/2022,6,Sunday,0',), ('10/3/2022,2022,October,10,Q4,41,10/8/2022,0,Monday,1',), ('10/4/2022,2022,October,10,Q4,41,10/8/2022,1,Tuesday,0',), ('10/5/2022,2022,October,10,Q4,41,10/8/2022,2,Wednesday,0',), ('10/6/2022,2022,October,10,Q4,41,10/8/2022,3,Thursday,0',), ('10/7/2022,2022,October,10,Q4,41,10/8/2022,4,Friday,0',), ('10/8/2022,2022,October,10,Q4,41,10/8/2022,5,Saturday,0',), ('10/9/2022,2022,October,10,Q4,41,10/15/2022,6,Sunday,0',), ('10/10/2022,2022,October,10,Q4,42,10/15/2022,0,Monday,0',), ('10/11/2022,2022,October,10,Q4,42,10/15/2022,1,Tuesday,0',), ('10/12/2022,2022,October,10,Q4,42,10/15/2022,2,Wednesday,0',), ('10/13/2022,2022,October,10,Q4,42,10/15/2022,3,Thursday,0',), ('10/14/2022,2022,October,10,Q4,42,10/15/2022,4,Friday,0',), ('10/15/2022,2022,October,10,Q4,42,10/15/2022,5,Saturday,0',), ('10/16/2022,2022,October,10,Q4,42,10/22/2022,6,Sunday,0',), ('10/17/2022,2022,October,10,Q4,43,10/22/2022,0,Monday,0',), ('10/18/2022,2022,October,10,Q4,43,10/22/2022,1,Tuesday,0',), ('10/19/2022,2022,October,10,Q4,43,10/22/2022,2,Wednesday,0',), ('10/20/2022,2022,October,10,Q4,43,10/22/2022,3,Thursday,0',), ('10/21/2022,2022,October,10,Q4,43,10/22/2022,4,Friday,0',), ('10/22/2022,2022,October,10,Q4,43,10/22/2022,5,Saturday,0',), ('10/23/2022,2022,October,10,Q4,43,10/29/2022,6,Sunday,0',), ('10/24/2022,2022,October,10,Q4,44,10/29/2022,0,Monday,0',), ('10/25/2022,2022,October,10,Q4,44,10/29/2022,1,Tuesday,0',), ('10/26/2022,2022,October,10,Q4,44,10/29/2022,2,Wednesday,0',), ('10/27/2022,2022,October,10,Q4,44,10/29/2022,3,Thursday,0',), ('10/28/2022,2022,October,10,Q4,44,10/29/2022,4,Friday,0',), ('10/29/2022,2022,October,10,Q4,44,10/29/2022,5,Saturday,0',), ('10/30/2022,2022,October,10,Q4,44,11/5/2022,6,Sunday,0',), ('10/31/2022,2022,October,10,Q4,45,11/5/2022,0,Monday,0',), ('11/1/2022,2022,November,11,Q4,45,11/5/2022,1,Tuesday,0',), ('11/2/2022,2022,November,11,Q4,45,11/5/2022,2,Wednesday,0',), ('11/3/2022,2022,November,11,Q4,45,11/5/2022,3,Thursday,0',), ('11/4/2022,2022,November,11,Q4,45,11/5/2022,4,Friday,0',), ('11/5/2022,2022,November,11,Q4,45,11/5/2022,5,Saturday,0',), ('11/6/2022,2022,November,11,Q4,45,11/12/2022,6,Sunday,0',), ('11/7/2022,2022,November,11,Q4,46,11/12/2022,0,Monday,0',), ('11/8/2022,2022,November,11,Q4,46,11/12/2022,1,Tuesday,0',), ('11/9/2022,2022,November,11,Q4,46,11/12/2022,2,Wednesday,0',), ('11/10/2022,2022,November,11,Q4,46,11/12/2022,3,Thursday,0',), ('11/11/2022,2022,November,11,Q4,46,11/12/2022,4,Friday,0',), ('11/12/2022,2022,November,11,Q4,46,11/12/2022,5,Saturday,0',), ('11/13/2022,2022,November,11,Q4,46,11/19/2022,6,Sunday,0',), ('11/14/2022,2022,November,11,Q4,47,11/19/2022,0,Monday,0',), ('11/15/2022,2022,November,11,Q4,47,11/19/2022,1,Tuesday,0',), ('11/16/2022,2022,November,11,Q4,47,11/19/2022,2,Wednesday,0',), ('11/17/2022,2022,November,11,Q4,47,11/19/2022,3,Thursday,0',), ('11/18/2022,2022,November,11,Q4,47,11/19/2022,4,Friday,0',), ('11/19/2022,2022,November,11,Q4,47,11/19/2022,5,Saturday,0',), ('11/20/2022,2022,November,11,Q4,47,11/26/2022,6,Sunday,0',), ('11/21/2022,2022,November,11,Q4,48,11/26/2022,0,Monday,0',), ('11/22/2022,2022,November,11,Q4,48,11/26/2022,1,Tuesday,0',), ('11/23/2022,2022,November,11,Q4,48,11/26/2022,2,Wednesday,0',), ('11/24/2022,2022,November,11,Q4,48,11/26/2022,3,Thursday,0',), ('11/25/2022,2022,November,11,Q4,48,11/26/2022,4,Friday,0',), ('11/26/2022,2022,November,11,Q4,48,11/26/2022,5,Saturday,0',), ('11/27/2022,2022,November,11,Q4,48,12/3/2022,6,Sunday,0',), ('11/28/2022,2022,November,11,Q4,49,12/3/2022,0,Monday,0',), ('11/29/2022,2022,November,11,Q4,49,12/3/2022,1,Tuesday,0',), ('11/30/2022,2022,November,11,Q4,49,12/3/2022,2,Wednesday,0',), ('12/1/2022,2022,December,12,Q4,49,12/3/2022,3,Thursday,0',), ('12/2/2022,2022,December,12,Q4,49,12/3/2022,4,Friday,0',), ('12/3/2022,2022,December,12,Q4,49,12/3/2022,5,Saturday,0',), ('12/4/2022,2022,December,12,Q4,49,12/10/2022,6,Sunday,0',), ('12/5/2022,2022,December,12,Q4,50,12/10/2022,0,Monday,0',), ('12/6/2022,2022,December,12,Q4,50,12/10/2022,1,Tuesday,0',), ('12/7/2022,2022,December,12,Q4,50,12/10/2022,2,Wednesday,0',), ('12/8/2022,2022,December,12,Q4,50,12/10/2022,3,Thursday,0',), ('12/9/2022,2022,December,12,Q4,50,12/10/2022,4,Friday,0',), ('12/10/2022,2022,December,12,Q4,50,12/10/2022,5,Saturday,0',), ('12/11/2022,2022,December,12,Q4,50,12/17/2022,6,Sunday,0',), ('12/12/2022,2022,December,12,Q4,51,12/17/2022,0,Monday,0',), ('12/13/2022,2022,December,12,Q4,51,12/17/2022,1,Tuesday,0',), ('12/14/2022,2022,December,12,Q4,51,12/17/2022,2,Wednesday,0',), ('12/15/2022,2022,December,12,Q4,51,12/17/2022,3,Thursday,0',), ('12/16/2022,2022,December,12,Q4,51,12/17/2022,4,Friday,0',), ('12/17/2022,2022,December,12,Q4,51,12/17/2022,5,Saturday,0',), ('12/18/2022,2022,December,12,Q4,51,12/24/2022,6,Sunday,0',), ('12/19/2022,2022,December,12,Q4,52,12/24/2022,0,Monday,0',), ('12/20/2022,2022,December,12,Q4,52,12/24/2022,1,Tuesday,0',), ('12/21/2022,2022,December,12,Q4,52,12/24/2022,2,Wednesday,0',), ('12/22/2022,2022,December,12,Q4,52,12/24/2022,3,Thursday,0',), ('12/23/2022,2022,December,12,Q4,52,12/24/2022,4,Friday,0',), ('12/24/2022,2022,December,12,Q4,52,12/24/2022,5,Saturday,0',), ('12/25/2022,2022,December,12,Q4,52,12/31/2022,6,Sunday,1',), ('12/26/2022,2022,December,12,Q4,53,12/31/2022,0,Monday,1',), ('12/27/2022,2022,December,12,Q4,53,12/31/2022,1,Tuesday,0',), ('12/28/2022,2022,December,12,Q4,53,12/31/2022,2,Wednesday,0',), ('12/29/2022,2022,December,12,Q4,53,12/31/2022,3,Thursday,0',), ('12/30/2022,2022,December,12,Q4,53,12/31/2022,4,Friday,0',), ('12/31/2022,2022,December,12,Q4,53,12/31/2022,5,Saturday,0',)]\n"
     ]
    }
   ],
   "source": [
    "import pyodbc\n",
    "\n",
    "connection = pyodbc.connect('Driver={SQL Server Native Client 11.0};'\n",
    "                        'Server=DESKTOP-U1CBTFI;'\n",
    "                        'Database=Chunks;'\n",
    "                        'Trusted_Connection=yes;'\n",
    ")\n",
    "\n",
    "cursor = connection.cursor()\n",
    "query = \"select * from Calendar;\"\n",
    "result = cursor.execute(query)\n",
    "result = result.fetchall()\n",
    "print(result)\n",
    "cursor.close()\n",
    "connection.commit()\n",
    "connection.close()\n"
   ]
  },
  {
   "cell_type": "code",
   "execution_count": 21,
   "id": "4b2f9709",
   "metadata": {},
   "outputs": [
    {
     "name": "stdout",
     "output_type": "stream",
     "text": [
      "                                                     a\n",
      "0    1/1/2022,2022,January,1,Q1,1,1/1/2022,5,Saturd...\n",
      "1     1/2/2022,2022,January,1,Q1,1,1/8/2022,6,Sunday,0\n",
      "2     1/3/2022,2022,January,1,Q1,2,1/8/2022,0,Monday,1\n",
      "3    1/4/2022,2022,January,1,Q1,2,1/8/2022,1,Tuesday,0\n",
      "4    1/5/2022,2022,January,1,Q1,2,1/8/2022,2,Wednes...\n",
      "..                                                 ...\n",
      "360  12/27/2022,2022,December,12,Q4,53,12/31/2022,1...\n",
      "361  12/28/2022,2022,December,12,Q4,53,12/31/2022,2...\n",
      "362  12/29/2022,2022,December,12,Q4,53,12/31/2022,3...\n",
      "363  12/30/2022,2022,December,12,Q4,53,12/31/2022,4...\n",
      "364  12/31/2022,2022,December,12,Q4,53,12/31/2022,5...\n",
      "\n",
      "[365 rows x 1 columns]\n"
     ]
    }
   ],
   "source": [
    "import sqlalchemy as sa\n",
    "import pandas as pd\n",
    "\n",
    "connection = 'mssql+pyodbc://DESKTOP-U1CBTFI/Chunks?driver=SQL+Server+Native+Client+11.0'\n",
    "engine = sa.create_engine(connection)\n",
    "con = engine.connect()\n",
    "df = pd.read_sql(\"select * from Calendar\", con=con)\n",
    "print(df)"
   ]
  },
  {
   "cell_type": "code",
   "execution_count": 22,
   "id": "745e7073",
   "metadata": {},
   "outputs": [
    {
     "data": {
      "text/html": [
       "<div>\n",
       "<style scoped>\n",
       "    .dataframe tbody tr th:only-of-type {\n",
       "        vertical-align: middle;\n",
       "    }\n",
       "\n",
       "    .dataframe tbody tr th {\n",
       "        vertical-align: top;\n",
       "    }\n",
       "\n",
       "    .dataframe thead th {\n",
       "        text-align: right;\n",
       "    }\n",
       "</style>\n",
       "<table border=\"1\" class=\"dataframe\">\n",
       "  <thead>\n",
       "    <tr style=\"text-align: right;\">\n",
       "      <th></th>\n",
       "      <th>a</th>\n",
       "    </tr>\n",
       "  </thead>\n",
       "  <tbody>\n",
       "    <tr>\n",
       "      <th>0</th>\n",
       "      <td>1/1/2022,2022,January,1,Q1,1,1/1/2022,5,Saturd...</td>\n",
       "    </tr>\n",
       "    <tr>\n",
       "      <th>1</th>\n",
       "      <td>1/2/2022,2022,January,1,Q1,1,1/8/2022,6,Sunday,0</td>\n",
       "    </tr>\n",
       "    <tr>\n",
       "      <th>2</th>\n",
       "      <td>1/3/2022,2022,January,1,Q1,2,1/8/2022,0,Monday,1</td>\n",
       "    </tr>\n",
       "    <tr>\n",
       "      <th>3</th>\n",
       "      <td>1/4/2022,2022,January,1,Q1,2,1/8/2022,1,Tuesday,0</td>\n",
       "    </tr>\n",
       "    <tr>\n",
       "      <th>4</th>\n",
       "      <td>1/5/2022,2022,January,1,Q1,2,1/8/2022,2,Wednes...</td>\n",
       "    </tr>\n",
       "    <tr>\n",
       "      <th>...</th>\n",
       "      <td>...</td>\n",
       "    </tr>\n",
       "    <tr>\n",
       "      <th>360</th>\n",
       "      <td>12/27/2022,2022,December,12,Q4,53,12/31/2022,1...</td>\n",
       "    </tr>\n",
       "    <tr>\n",
       "      <th>361</th>\n",
       "      <td>12/28/2022,2022,December,12,Q4,53,12/31/2022,2...</td>\n",
       "    </tr>\n",
       "    <tr>\n",
       "      <th>362</th>\n",
       "      <td>12/29/2022,2022,December,12,Q4,53,12/31/2022,3...</td>\n",
       "    </tr>\n",
       "    <tr>\n",
       "      <th>363</th>\n",
       "      <td>12/30/2022,2022,December,12,Q4,53,12/31/2022,4...</td>\n",
       "    </tr>\n",
       "    <tr>\n",
       "      <th>364</th>\n",
       "      <td>12/31/2022,2022,December,12,Q4,53,12/31/2022,5...</td>\n",
       "    </tr>\n",
       "  </tbody>\n",
       "</table>\n",
       "<p>365 rows × 1 columns</p>\n",
       "</div>"
      ],
      "text/plain": [
       "                                                     a\n",
       "0    1/1/2022,2022,January,1,Q1,1,1/1/2022,5,Saturd...\n",
       "1     1/2/2022,2022,January,1,Q1,1,1/8/2022,6,Sunday,0\n",
       "2     1/3/2022,2022,January,1,Q1,2,1/8/2022,0,Monday,1\n",
       "3    1/4/2022,2022,January,1,Q1,2,1/8/2022,1,Tuesday,0\n",
       "4    1/5/2022,2022,January,1,Q1,2,1/8/2022,2,Wednes...\n",
       "..                                                 ...\n",
       "360  12/27/2022,2022,December,12,Q4,53,12/31/2022,1...\n",
       "361  12/28/2022,2022,December,12,Q4,53,12/31/2022,2...\n",
       "362  12/29/2022,2022,December,12,Q4,53,12/31/2022,3...\n",
       "363  12/30/2022,2022,December,12,Q4,53,12/31/2022,4...\n",
       "364  12/31/2022,2022,December,12,Q4,53,12/31/2022,5...\n",
       "\n",
       "[365 rows x 1 columns]"
      ]
     },
     "execution_count": 22,
     "metadata": {},
     "output_type": "execute_result"
    }
   ],
   "source": [
    "df"
   ]
  },
  {
   "cell_type": "code",
   "execution_count": null,
   "id": "c33c4b9d",
   "metadata": {},
   "outputs": [],
   "source": []
  }
 ],
 "metadata": {
  "kernelspec": {
   "display_name": "Python 3",
   "language": "python",
   "name": "python3"
  },
  "language_info": {
   "codemirror_mode": {
    "name": "ipython",
    "version": 3
   },
   "file_extension": ".py",
   "mimetype": "text/x-python",
   "name": "python",
   "nbconvert_exporter": "python",
   "pygments_lexer": "ipython3",
   "version": "3.13.2"
  }
 },
 "nbformat": 4,
 "nbformat_minor": 5
}
